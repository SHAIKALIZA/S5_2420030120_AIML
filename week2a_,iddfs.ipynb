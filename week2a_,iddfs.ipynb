{
  "nbformat": 4,
  "nbformat_minor": 0,
  "metadata": {
    "colab": {
      "provenance": []
    },
    "kernelspec": {
      "name": "python3",
      "display_name": "Python 3"
    },
    "language_info": {
      "name": "python"
    }
  },
  "cells": [
    {
      "cell_type": "markdown",
      "source": [
        "A* search"
      ],
      "metadata": {
        "id": "tC9ylbx_hlIE"
      }
    },
    {
      "cell_type": "code",
      "execution_count": 1,
      "metadata": {
        "colab": {
          "base_uri": "https://localhost:8080/"
        },
        "id": "BI511Gvlhcm-",
        "outputId": "82564033-af40-445a-fb24-5aa0134296a3"
      },
      "outputs": [
        {
          "output_type": "stream",
          "name": "stdout",
          "text": [
            "['A', 'B', 'D']\n"
          ]
        }
      ],
      "source": [
        "#a*\n",
        "from heapq import heappush, heappop\n",
        "\n",
        "def astar(start, goal, h, neighbors):\n",
        "    open_set = [(h(start), 0, start, [start])]\n",
        "    visited = set()\n",
        "    while open_set:\n",
        "        est, cost, node, path = heappop(open_set)\n",
        "        if node == goal: return path\n",
        "        if node in visited: continue\n",
        "        visited.add(node)\n",
        "        for neigh, w in neighbors(node):\n",
        "            if neigh not in visited:\n",
        "                g = cost + w\n",
        "                heappush(open_set, (g + h(neigh), g, neigh, path + [neigh]))\n",
        "\n",
        "# Example graph\n",
        "graph = {\n",
        "    'A': {'B': 1, 'C': 3},\n",
        "    'B': {'D': 1, 'E': 5},\n",
        "    'C': {'F': 2},\n",
        "    'D': {}, 'E': {}, 'F': {}\n",
        "}\n",
        "\n",
        "def neighbors(n): return [(k, v) for k, v in graph[n].items()]\n",
        "def h(n): return {'A':4, 'B':3, 'C':2, 'D':0, 'E':0, 'F':0}[n]\n",
        "\n",
        "print(astar('A', 'D', h, neighbors))"
      ]
    },
    {
      "cell_type": "markdown",
      "source": [
        "IDDFS"
      ],
      "metadata": {
        "id": "CibAoASoh4qc"
      }
    },
    {
      "cell_type": "code",
      "source": [
        "#iddfs\n",
        "def dls(g, node, depth, visited):\n",
        "    if depth >= 0:\n",
        "        print(node, end=\" \")\n",
        "        visited.add(node)\n",
        "        if depth:\n",
        "            for n in g[node]:\n",
        "                if n not in visited:\n",
        "                    dls(g, n, depth-1, visited)\n",
        "\n",
        "def iddfs(g, start, max_depth):\n",
        "    for d in range(max_depth+1):\n",
        "        dls(g, start, d, set())\n",
        "\n",
        "# Example usage\n",
        "g = {\n",
        "    'A': ['B', 'C'],\n",
        "    'B': ['D', 'E'],\n",
        "    'C': ['F'],\n",
        "    'D': [], 'E': [], 'F': []\n",
        "}\n",
        "iddfs(g, 'A', 3)\n"
      ],
      "metadata": {
        "colab": {
          "base_uri": "https://localhost:8080/"
        },
        "id": "OEign20wh6vs",
        "outputId": "b604dfed-1e28-4b5c-93a2-4d78b78a3f53"
      },
      "execution_count": 2,
      "outputs": [
        {
          "output_type": "stream",
          "name": "stdout",
          "text": [
            "A A B C A B D E C F A B D E C F "
          ]
        }
      ]
    },
    {
      "cell_type": "markdown",
      "source": [
        "a* search 2"
      ],
      "metadata": {
        "id": "Fq388_UWiaE2"
      }
    },
    {
      "cell_type": "code",
      "source": [
        "#A* Search\n",
        "import networkx as nx\n",
        "import matplotlib.pyplot as plt\n",
        "import heapq\n",
        "\n",
        "def a_star_search(G, start, goal):\n",
        "    # Heuristic function for A* search\n",
        "    def heuristic(node):\n",
        "        return abs(node-goal)\n",
        "\n",
        "    # Priority queue for nodes to explore\n",
        "    frontier = [(0, start)]  # (cost + heuristic, node)\n",
        "    came_from = {start: None}\n",
        "    cost_so_far = {start: 0}\n",
        "\n",
        "    while frontier:\n",
        "        current_cost, current_node = heapq.heappop(frontier)\n",
        "\n",
        "        if current_node == goal:\n",
        "            return reconstruct_path(came_from, start, goal)\n",
        "\n",
        "        for neighbor in G.neighbors(current_node):\n",
        "            new_cost = cost_so_far[current_node] + G[current_node][neighbor].get('weight', 1)\n",
        "            if neighbor not in cost_so_far or new_cost < cost_so_far[neighbor]:\n",
        "                cost_so_far[neighbor] = new_cost\n",
        "                priority = new_cost + heuristic(neighbor)\n",
        "                heapq.heappush(frontier, (priority, neighbor))\n",
        "                came_from[neighbor] = current_node\n",
        "\n",
        "    return None\n",
        "\n",
        "def reconstruct_path(came_from, start, goal):\n",
        "    path = []\n",
        "    node = goal\n",
        "    while node:\n",
        "        path.append(node)\n",
        "        node = came_from[node]\n",
        "    return path[::-1]\n",
        "\n",
        "def display_graph_and_path(G, path):\n",
        "    pos = nx.spring_layout(G)\n",
        "    nx.draw(G, pos, with_labels=True, node_color='lightblue', node_size=500, font_size=15)\n",
        "    if path:\n",
        "        nx.draw_networkx_edges(G, pos, edgelist=list(zip(path, path[1:])), edge_color='r', width=2)\n",
        "    plt.show()\n",
        "\n",
        "# Example usage\n",
        "G = nx.Graph()\n",
        "G.add_weighted_edges_from([\n",
        "    (1, 2, 1), (2, 3, 2), (3, 4, 1), (4, 5, 3),\n",
        "    (1, 6, 5), (6, 7, 2), (7, 8, 1), (8, 9, 1),\n",
        "    (5, 9, 1), (3, 7, 1)\n",
        "])\n",
        "\n",
        "start_node, goal_node = 1, 9\n",
        "path = a_star_search(G, start_node, goal_node)\n",
        "print(\"Path found:\", path)\n",
        "display_graph_and_path(G, path)"
      ],
      "metadata": {
        "colab": {
          "base_uri": "https://localhost:8080/",
          "height": 533
        },
        "id": "SOt9CvF-iesU",
        "outputId": "97ebb54c-7685-4d31-aab3-a218b562b2f2"
      },
      "execution_count": 3,
      "outputs": [
        {
          "output_type": "stream",
          "name": "stdout",
          "text": [
            "Path found: [1, 2, 3, 7, 8, 9]\n"
          ]
        },
        {
          "output_type": "display_data",
          "data": {
            "text/plain": [
              "<Figure size 640x480 with 1 Axes>"
            ],
            "image/png": "[encoded data removed]"
          },
          "metadata": {}
        }
      ]
    }
  ]
}