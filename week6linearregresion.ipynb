{
  "nbformat": 4,
  "nbformat_minor": 0,
  "metadata": {
    "colab": {
      "provenance": []
    },
    "kernelspec": {
      "name": "python3",
      "display_name": "Python 3"
    },
    "language_info": {
      "name": "python"
    }
  },
  "cells": [
    {
      "cell_type": "markdown",
      "source": [
        "\n",
        "Write a Python program to:\n",
        "\n",
        "*  Load Boston housing dataset using sklearn and perform linear regression to predict house prices.\n",
        "*  Print regression coefficients and intercept.\n",
        "*  Load Iris dataset using sklearn and perform logistic regression to classify species.\n",
        "*  Apply L2 regularization and print model coefficients.\n",
        "*  Visualize decision boundaries for logistic regression classification using seaborn or matplotlib.\n",
        "\n",
        "\n",
        "\n",
        "\n"
      ],
      "metadata": {
        "id": "jYVYSxAZlNVt"
      }
    },
    {
      "cell_type": "code",
      "execution_count": 1,
      "metadata": {
        "colab": {
          "base_uri": "https://localhost:8080/"
        },
        "id": "uXZBRjTulLZd",
        "outputId": "7977a76b-885a-4992-9ebc-e1ab4fec10c7"
      },
      "outputs": [
        {
          "output_type": "stream",
          "name": "stdout",
          "text": [
            "Regression coefficients: [-1.13055924e-01  3.01104641e-02  4.03807204e-02  2.78443820e+00\n",
            " -1.72026334e+01  4.43883520e+00 -6.29636221e-03 -1.44786537e+00\n",
            "  2.62429736e-01 -1.06467863e-02 -9.15456240e-01  1.23513347e-02\n",
            " -5.08571424e-01]\n",
            "Intercept: 30.24675099392366\n"
          ]
        }
      ],
      "source": [
        "# Linear Regression on Boston Housing Dataset\n",
        "from sklearn.datasets import fetch_openml\n",
        "from sklearn.linear_model import LinearRegression\n",
        "from sklearn.model_selection import train_test_split\n",
        "\n",
        "# Load dataset from OpenML\n",
        "boston = fetch_openml(name=\"boston\", version=1, as_frame=True)\n",
        "\n",
        "# Features (X) and target (y)\n",
        "X = boston.data\n",
        "y = boston.target\n",
        "\n",
        "# Train-test split\n",
        "X_train, X_test, y_train, y_test = train_test_split(X, y, test_size=0.2, random_state=42)\n",
        "\n",
        "# Linear regression model\n",
        "model = LinearRegression()\n",
        "model.fit(X_train, y_train)\n",
        "\n",
        "# Print regression coefficients and intercept\n",
        "print(\"Regression coefficients:\", model.coef_)\n",
        "print(\"Intercept:\", model.intercept_)"
      ]
    }
  ]
}