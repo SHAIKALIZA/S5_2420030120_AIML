{
  "nbformat": 4,
  "nbformat_minor": 0,
  "metadata": {
    "colab": {
      "provenance": []
    },
    "kernelspec": {
      "name": "python3",
      "display_name": "Python 3"
    },
    "language_info": {
      "name": "python"
    }
  },
  "cells": [
    {
      "cell_type": "markdown",
      "source": [
        "random variable movement"
      ],
      "metadata": {
        "id": "snaS78-jjhP0"
      }
    },
    {
      "cell_type": "code",
      "execution_count": 1,
      "metadata": {
        "colab": {
          "base_uri": "https://localhost:8080/"
        },
        "id": "DS8-GjaYjION",
        "outputId": "310bc03d-6145-4c39-b3f3-c1e62bebf58b"
      },
      "outputs": [
        {
          "output_type": "stream",
          "name": "stdout",
          "text": [
            "Starting position: [0, 0]\n",
            "Step 1: Cannot move, stayed in place\n",
            "Step 2: Cannot move, stayed in place\n",
            "Step 3: Cannot move, stayed in place\n",
            "Step 4: Moved to [1, 0]\n",
            "Step 5: Cannot move, stayed in place\n",
            "Step 6: Cannot move, stayed in place\n",
            "Step 7: Moved to [1, 1]\n",
            "Step 8: Moved to [1, 2]\n",
            "Step 9: Moved to [1, 1]\n",
            "Step 10: Moved to [1, 2]\n"
          ]
        }
      ],
      "source": [
        "#Random Variable Movement\n",
        "import random\n",
        "\n",
        "def create_environment(size):\n",
        "    return {\n",
        "        'size': size,\n",
        "        'agent_position': [0, 0]\n",
        "    }\n",
        "\n",
        "def is_valid_move(environment, position):\n",
        "    size = environment['size']\n",
        "    return 0 <= position[0] < size and 0 <= position[1] < size\n",
        "\n",
        "def perceive(environment):\n",
        "    return environment['agent_position']\n",
        "\n",
        "def act(environment):\n",
        "    moves = [(-1, 0), (1, 0), (0, -1), (0, 1)]  # Up, Down, Left, Right\n",
        "    random_move = random.choice(moves)\n",
        "    new_position = [\n",
        "        environment['agent_position'][0] + random_move[0],\n",
        "        environment['agent_position'][1] + random_move[1]\n",
        "    ]\n",
        "\n",
        "    if is_valid_move(environment, new_position):\n",
        "        environment['agent_position'] = new_position\n",
        "        return f\"Moved to {environment['agent_position']}\"\n",
        "    else:\n",
        "        return \"Cannot move, stayed in place\"\n",
        "\n",
        "def main():\n",
        "    env_size = 5\n",
        "    num_steps = 10\n",
        "\n",
        "    environment = create_environment(env_size)\n",
        "\n",
        "    print(f\"Starting position: {perceive(environment)}\")\n",
        "\n",
        "    for step in range(num_steps):\n",
        "        print(f\"Step {step + 1}: {act(environment)}\")\n",
        "\n",
        "if __name__ == \"__main__\":\n",
        "    main()"
      ]
    },
    {
      "cell_type": "markdown",
      "source": [
        "Map colouring"
      ],
      "metadata": {
        "id": "GtMHSSQXkZX0"
      }
    },
    {
      "cell_type": "code",
      "source": [
        "#Map COloring Problem\n",
        "def color_map(graph, colors, assignment={}, node=0):\n",
        "    if node == len(graph): return assignment\n",
        "    region = list(graph.keys())[node]\n",
        "    for color in colors:\n",
        "        if all(assignment.get(n) != color for n in graph[region]):\n",
        "            assignment[region] = color\n",
        "            if color_map(graph, colors, assignment, node+1):\n",
        "                return assignment\n",
        "            del assignment[region]\n",
        "    return None\n",
        "\n",
        "# Example graph (adjacency list)\n",
        "graph = {\n",
        "    'A': ['B', 'C'],\n",
        "    'B': ['A', 'C', 'D'],\n",
        "    'C': ['A', 'B', 'D'],\n",
        "    'D': ['B', 'C']\n",
        "}\n",
        "\n",
        "colors = ['Red', 'Green', 'Blue']\n",
        "print(color_map(graph, colors))"
      ],
      "metadata": {
        "colab": {
          "base_uri": "https://localhost:8080/"
        },
        "id": "OZsPPFFZkcQU",
        "outputId": "02537c05-4ca0-4eb2-8de4-8f717702af89"
      },
      "execution_count": 2,
      "outputs": [
        {
          "output_type": "stream",
          "name": "stdout",
          "text": [
            "{'A': 'Red', 'B': 'Green', 'C': 'Blue', 'D': 'Red'}\n"
          ]
        }
      ]
    }
  ]
}